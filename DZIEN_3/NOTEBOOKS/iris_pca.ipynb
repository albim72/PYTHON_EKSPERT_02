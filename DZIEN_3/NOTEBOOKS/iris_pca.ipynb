{
 "cells":[
  {
   "cell_type":"code",
   "source":[
    "import numpy as np\n",
    "import pandas as pd\n",
    "import matplotlib.pyplot as plt\n",
    "\n",
    "\n",
    "url = \"https:\/\/archive.ics.uci.edu\/ml\/machine-learning-databases\/iris\/iris.data\"\n",
    "df = pd.read_csv(url,names=['sepal length','sepal width','petal length','petal width','target'])\n",
    "df.head()"
   ],
   "execution_count":1,
   "outputs":[
    {
     "data":{
      "text\/html":[
       "<div>\n",
       "<style scoped>\n",
       "    .dataframe tbody tr th:only-of-type {\n",
       "        vertical-align: middle;\n",
       "    }\n",
       "\n",
       "    .dataframe tbody tr th {\n",
       "        vertical-align: top;\n",
       "    }\n",
       "\n",
       "    .dataframe thead th {\n",
       "        text-align: right;\n",
       "    }\n",
       "<\/style>\n",
       "<table border=\"1\" class=\"dataframe\">\n",
       "  <thead>\n",
       "    <tr style=\"text-align: right;\">\n",
       "      <th><\/th>\n",
       "      <th>sepal length<\/th>\n",
       "      <th>sepal width<\/th>\n",
       "      <th>petal length<\/th>\n",
       "      <th>petal width<\/th>\n",
       "      <th>target<\/th>\n",
       "    <\/tr>\n",
       "  <\/thead>\n",
       "  <tbody>\n",
       "    <tr>\n",
       "      <th>0<\/th>\n",
       "      <td>5.1<\/td>\n",
       "      <td>3.5<\/td>\n",
       "      <td>1.4<\/td>\n",
       "      <td>0.2<\/td>\n",
       "      <td>Iris-setosa<\/td>\n",
       "    <\/tr>\n",
       "    <tr>\n",
       "      <th>1<\/th>\n",
       "      <td>4.9<\/td>\n",
       "      <td>3.0<\/td>\n",
       "      <td>1.4<\/td>\n",
       "      <td>0.2<\/td>\n",
       "      <td>Iris-setosa<\/td>\n",
       "    <\/tr>\n",
       "    <tr>\n",
       "      <th>2<\/th>\n",
       "      <td>4.7<\/td>\n",
       "      <td>3.2<\/td>\n",
       "      <td>1.3<\/td>\n",
       "      <td>0.2<\/td>\n",
       "      <td>Iris-setosa<\/td>\n",
       "    <\/tr>\n",
       "    <tr>\n",
       "      <th>3<\/th>\n",
       "      <td>4.6<\/td>\n",
       "      <td>3.1<\/td>\n",
       "      <td>1.5<\/td>\n",
       "      <td>0.2<\/td>\n",
       "      <td>Iris-setosa<\/td>\n",
       "    <\/tr>\n",
       "    <tr>\n",
       "      <th>4<\/th>\n",
       "      <td>5.0<\/td>\n",
       "      <td>3.6<\/td>\n",
       "      <td>1.4<\/td>\n",
       "      <td>0.2<\/td>\n",
       "      <td>Iris-setosa<\/td>\n",
       "    <\/tr>\n",
       "  <\/tbody>\n",
       "<\/table>\n",
       "<\/div>"
      ]
     },
     "metadata":{
      
     },
     "output_type":"display_data"
    }
   ],
   "metadata":{
    "datalore":{
     "node_id":"p3Yrt6VpKHRYto61RMUDBD",
     "type":"CODE",
     "hide_input_from_viewers":false,
     "hide_output_from_viewers":false
    }
   }
  },
  {
   "cell_type":"code",
   "source":[
    "from sklearn.preprocessing import StandardScaler\n",
    "features = ['sepal length','sepal width','petal length','petal width']\n",
    "x = df.loc[:,features].values\n",
    "y = df.loc[:,['target']].values\n",
    "x = StandardScaler().fit_transform(x)"
   ],
   "execution_count":2,
   "outputs":[
    
   ],
   "metadata":{
    "datalore":{
     "node_id":"A9nFUQVTznXwairQ8Ai1L3",
     "type":"CODE",
     "hide_input_from_viewers":false,
     "hide_output_from_viewers":false
    }
   }
  },
  {
   "cell_type":"code",
   "source":[
    "from sklearn.decomposition import PCA\n",
    "pca = PCA(n_components=2)\n",
    "principalComponents = pca.fit_transform(x)\n",
    "principalDf = pd.DataFrame(data=principalComponents, columns=['principal component 1', 'principal component 2'])\n",
    "finalDf = pd.concat([principalDf,df[['target']]],axis=1)"
   ],
   "execution_count":3,
   "outputs":[
    
   ],
   "metadata":{
    "datalore":{
     "node_id":"8OUiEHycwXeaRioDqXdRxm",
     "type":"CODE",
     "hide_input_from_viewers":false,
     "hide_output_from_viewers":false
    }
   }
  },
  {
   "cell_type":"code",
   "source":[
    "fig = plt.figure(figsize=(8,8))\n",
    "ax = fig.add_subplot(1,1,1)\n",
    "ax.set_xlabel('principal component 1',fontsize=15)\n",
    "ax.set_ylabel('principal component 2',fontsize=15)\n",
    "ax.set_title('dwa komponenty PCA',fontsize=20)\n",
    "targets = ['Iris-setosa','Iris-versicolor','Iris-virginica']\n",
    "colors = ['r','g','b']\n",
    "for target, color in zip(targets,colors):\n",
    "    indicesToKeep = finalDf['target'] == target\n",
    "    ax.scatter(finalDf.loc[indicesToKeep,'principal component 1'],\n",
    "               finalDf.loc[indicesToKeep,'principal component 2'],\n",
    "               c=color,\n",
    "               s=50)\n",
    "ax.legend(targets)\n",
    "ax.grid()"
   ],
   "execution_count":7,
   "outputs":[
    {
     "data":{
      "image\/png":"[encoded data removed]"
     },
     "metadata":{
      "image\/png":{
       
      }
     },
     "output_type":"display_data"
    }
   ],
   "metadata":{
    "datalore":{
     "node_id":"v5SBLnaPRjM80fo3whSWSd",
     "type":"CODE",
     "hide_input_from_viewers":false,
     "hide_output_from_viewers":false
    }
   }
  }
 ],
 "metadata":{
  "kernelspec":{
   "display_name":"Python",
   "language":"python",
   "name":"python"
  },
  "datalore":{
   "version":1,
   "computation_mode":"JUPYTER",
   "package_manager":"pip",
   "base_environment":"default",
   "packages":[
    
   ]
  }
 },
 "nbformat":4,
 "nbformat_minor":4
}