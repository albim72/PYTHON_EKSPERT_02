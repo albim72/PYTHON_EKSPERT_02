{
 "cells":[
  {
   "cell_type":"code",
   "source":[
    "import numpy as np\n",
    "import pandas as pd"
   ],
   "execution_count":21,
   "outputs":[
    
   ],
   "metadata":{
    "datalore":{
     "node_id":"iHentd5rvBpR1R7OiyoVRt",
     "type":"CODE",
     "hide_input_from_viewers":false,
     "hide_output_from_viewers":false,
     "report_properties":{
      "y":0
     }
    }
   }
  },
  {
   "cell_type":"markdown",
   "source":[
    "<h2>Pierwszy skrypt<\/h2>\n",
    "pierwsza próba użycia **Datalore notebook** <strong><cite>użycie pandas<cite><\/strong>"
   ],
   "attachments":{
    
   },
   "metadata":{
    "datalore":{
     "node_id":"Y1aQ52V2EXGtcqOv7wcmHs",
     "type":"MD",
     "hide_input_from_viewers":false,
     "hide_output_from_viewers":false,
     "report_properties":{
      "y":3
     }
    }
   }
  },
  {
   "cell_type":"code",
   "source":[
    "data = {\n",
    "    'jabłko':[3,4,0,2],\n",
    "    'pomarańcza':[2,10,1,2],\n",
    "    'borówka':[3,2,2,0],\n",
    "    'winogrono':[1,0.3,0.1,0.8]\n",
    "}"
   ],
   "execution_count":22,
   "outputs":[
    
   ],
   "metadata":{
    "datalore":{
     "node_id":"oaT6KOCPwyE0C4cuqCVGnx",
     "type":"CODE",
     "hide_input_from_viewers":false,
     "hide_output_from_viewers":false,
     "report_properties":{
      "y":7
     }
    }
   }
  },
  {
   "cell_type":"code",
   "source":[
    "pur = pd.DataFrame(data)\n",
    "pur"
   ],
   "execution_count":23,
   "outputs":[
    {
     "data":{
      "text\/html":[
       "<div>\n",
       "<style scoped>\n",
       "    .dataframe tbody tr th:only-of-type {\n",
       "        vertical-align: middle;\n",
       "    }\n",
       "\n",
       "    .dataframe tbody tr th {\n",
       "        vertical-align: top;\n",
       "    }\n",
       "\n",
       "    .dataframe thead th {\n",
       "        text-align: right;\n",
       "    }\n",
       "<\/style>\n",
       "<table border=\"1\" class=\"dataframe\">\n",
       "  <thead>\n",
       "    <tr style=\"text-align: right;\">\n",
       "      <th><\/th>\n",
       "      <th>jabłko<\/th>\n",
       "      <th>pomarańcza<\/th>\n",
       "      <th>borówka<\/th>\n",
       "      <th>winogrono<\/th>\n",
       "    <\/tr>\n",
       "  <\/thead>\n",
       "  <tbody>\n",
       "    <tr>\n",
       "      <th>0<\/th>\n",
       "      <td>3<\/td>\n",
       "      <td>2<\/td>\n",
       "      <td>3<\/td>\n",
       "      <td>1.0<\/td>\n",
       "    <\/tr>\n",
       "    <tr>\n",
       "      <th>1<\/th>\n",
       "      <td>4<\/td>\n",
       "      <td>10<\/td>\n",
       "      <td>2<\/td>\n",
       "      <td>0.3<\/td>\n",
       "    <\/tr>\n",
       "    <tr>\n",
       "      <th>2<\/th>\n",
       "      <td>0<\/td>\n",
       "      <td>1<\/td>\n",
       "      <td>2<\/td>\n",
       "      <td>0.1<\/td>\n",
       "    <\/tr>\n",
       "    <tr>\n",
       "      <th>3<\/th>\n",
       "      <td>2<\/td>\n",
       "      <td>2<\/td>\n",
       "      <td>0<\/td>\n",
       "      <td>0.8<\/td>\n",
       "    <\/tr>\n",
       "  <\/tbody>\n",
       "<\/table>\n",
       "<\/div>"
      ]
     },
     "metadata":{
      
     },
     "output_type":"display_data"
    }
   ],
   "metadata":{
    "datalore":{
     "node_id":"n4Q4V7VibWRPwztmKBdxwW",
     "type":"CODE",
     "hide_input_from_viewers":false,
     "hide_output_from_viewers":false,
     "report_properties":{
      "y":12
     }
    }
   }
  },
  {
   "cell_type":"code",
   "source":[
    "pur = pd.DataFrame(data,index=['Olek','Dalia','Tadeusz','Ania'])\n",
    "pur"
   ],
   "execution_count":24,
   "outputs":[
    {
     "data":{
      "text\/html":[
       "<div>\n",
       "<style scoped>\n",
       "    .dataframe tbody tr th:only-of-type {\n",
       "        vertical-align: middle;\n",
       "    }\n",
       "\n",
       "    .dataframe tbody tr th {\n",
       "        vertical-align: top;\n",
       "    }\n",
       "\n",
       "    .dataframe thead th {\n",
       "        text-align: right;\n",
       "    }\n",
       "<\/style>\n",
       "<table border=\"1\" class=\"dataframe\">\n",
       "  <thead>\n",
       "    <tr style=\"text-align: right;\">\n",
       "      <th><\/th>\n",
       "      <th>jabłko<\/th>\n",
       "      <th>pomarańcza<\/th>\n",
       "      <th>borówka<\/th>\n",
       "      <th>winogrono<\/th>\n",
       "    <\/tr>\n",
       "  <\/thead>\n",
       "  <tbody>\n",
       "    <tr>\n",
       "      <th>Olek<\/th>\n",
       "      <td>3<\/td>\n",
       "      <td>2<\/td>\n",
       "      <td>3<\/td>\n",
       "      <td>1.0<\/td>\n",
       "    <\/tr>\n",
       "    <tr>\n",
       "      <th>Dalia<\/th>\n",
       "      <td>4<\/td>\n",
       "      <td>10<\/td>\n",
       "      <td>2<\/td>\n",
       "      <td>0.3<\/td>\n",
       "    <\/tr>\n",
       "    <tr>\n",
       "      <th>Tadeusz<\/th>\n",
       "      <td>0<\/td>\n",
       "      <td>1<\/td>\n",
       "      <td>2<\/td>\n",
       "      <td>0.1<\/td>\n",
       "    <\/tr>\n",
       "    <tr>\n",
       "      <th>Ania<\/th>\n",
       "      <td>2<\/td>\n",
       "      <td>2<\/td>\n",
       "      <td>0<\/td>\n",
       "      <td>0.8<\/td>\n",
       "    <\/tr>\n",
       "  <\/tbody>\n",
       "<\/table>\n",
       "<\/div>"
      ]
     },
     "metadata":{
      
     },
     "output_type":"display_data"
    }
   ],
   "metadata":{
    "datalore":{
     "node_id":"jdPSzIpOhfJsbp2ejNXSQ1",
     "type":"CODE",
     "hide_input_from_viewers":false,
     "hide_output_from_viewers":false,
     "report_properties":{
      "y":20
     }
    }
   }
  },
  {
   "cell_type":"code",
   "source":[
    "pur.loc['Olek']"
   ],
   "execution_count":25,
   "outputs":[
    {
     "data":{
      "text\/html":[
       "<pre>jabłko        3.0\n",
       "pomarańcza    2.0\n",
       "borówka       3.0\n",
       "winogrono     1.0\n",
       "Name: Olek, dtype: float64<\/pre>"
      ]
     },
     "metadata":{
      
     },
     "output_type":"display_data"
    }
   ],
   "metadata":{
    "datalore":{
     "node_id":"JyGRWFGwI3s3vwJL8gISOt",
     "type":"CODE",
     "hide_input_from_viewers":false,
     "hide_output_from_viewers":false,
     "report_properties":{
      "y":28
     }
    }
   }
  },
  {
   "cell_type":"code",
   "source":[
    "pur.to_csv('owoce.csv')\n",
    "pur.to_xml('owoce.xml')"
   ],
   "execution_count":26,
   "outputs":[
    
   ],
   "metadata":{
    "datalore":{
     "node_id":"MR3xPbY1Yv7Ap6UzBP8zod",
     "type":"CODE",
     "hide_input_from_viewers":false,
     "hide_output_from_viewers":false,
     "report_properties":{
      "y":35
     }
    }
   }
  },
  {
   "cell_type":"code",
   "source":[
    "df1 = pd.read_csv('owoce.csv')\n",
    "df1"
   ],
   "execution_count":27,
   "outputs":[
    {
     "data":{
      "text\/html":[
       "<div>\n",
       "<style scoped>\n",
       "    .dataframe tbody tr th:only-of-type {\n",
       "        vertical-align: middle;\n",
       "    }\n",
       "\n",
       "    .dataframe tbody tr th {\n",
       "        vertical-align: top;\n",
       "    }\n",
       "\n",
       "    .dataframe thead th {\n",
       "        text-align: right;\n",
       "    }\n",
       "<\/style>\n",
       "<table border=\"1\" class=\"dataframe\">\n",
       "  <thead>\n",
       "    <tr style=\"text-align: right;\">\n",
       "      <th><\/th>\n",
       "      <th>Unnamed: 0<\/th>\n",
       "      <th>jabłko<\/th>\n",
       "      <th>pomarańcza<\/th>\n",
       "      <th>borówka<\/th>\n",
       "      <th>winogrono<\/th>\n",
       "    <\/tr>\n",
       "  <\/thead>\n",
       "  <tbody>\n",
       "    <tr>\n",
       "      <th>0<\/th>\n",
       "      <td>Olek<\/td>\n",
       "      <td>3<\/td>\n",
       "      <td>2<\/td>\n",
       "      <td>3<\/td>\n",
       "      <td>1.0<\/td>\n",
       "    <\/tr>\n",
       "    <tr>\n",
       "      <th>1<\/th>\n",
       "      <td>Dalia<\/td>\n",
       "      <td>4<\/td>\n",
       "      <td>10<\/td>\n",
       "      <td>2<\/td>\n",
       "      <td>0.3<\/td>\n",
       "    <\/tr>\n",
       "    <tr>\n",
       "      <th>2<\/th>\n",
       "      <td>Tadeusz<\/td>\n",
       "      <td>0<\/td>\n",
       "      <td>1<\/td>\n",
       "      <td>2<\/td>\n",
       "      <td>0.1<\/td>\n",
       "    <\/tr>\n",
       "    <tr>\n",
       "      <th>3<\/th>\n",
       "      <td>Ania<\/td>\n",
       "      <td>2<\/td>\n",
       "      <td>2<\/td>\n",
       "      <td>0<\/td>\n",
       "      <td>0.8<\/td>\n",
       "    <\/tr>\n",
       "  <\/tbody>\n",
       "<\/table>\n",
       "<\/div>"
      ]
     },
     "metadata":{
      
     },
     "output_type":"display_data"
    }
   ],
   "metadata":{
    "datalore":{
     "node_id":"2Za8uNewpH125RIJsb3V39",
     "type":"CODE",
     "hide_input_from_viewers":false,
     "hide_output_from_viewers":false,
     "report_properties":{
      "y":38
     }
    }
   }
  },
  {
   "cell_type":"code",
   "source":[
    "unsorted_df = pd.DataFrame(np.random.randn(13,3),index=[1,4,6,2,3,5,9,8,0,7,10,11,12],columns=['b','a','c'])\n",
    "unsorted_df"
   ],
   "execution_count":28,
   "outputs":[
    {
     "data":{
      "text\/html":[
       "<div>\n",
       "<style scoped>\n",
       "    .dataframe tbody tr th:only-of-type {\n",
       "        vertical-align: middle;\n",
       "    }\n",
       "\n",
       "    .dataframe tbody tr th {\n",
       "        vertical-align: top;\n",
       "    }\n",
       "\n",
       "    .dataframe thead th {\n",
       "        text-align: right;\n",
       "    }\n",
       "<\/style>\n",
       "<table border=\"1\" class=\"dataframe\">\n",
       "  <thead>\n",
       "    <tr style=\"text-align: right;\">\n",
       "      <th><\/th>\n",
       "      <th>b<\/th>\n",
       "      <th>a<\/th>\n",
       "      <th>c<\/th>\n",
       "    <\/tr>\n",
       "  <\/thead>\n",
       "  <tbody>\n",
       "    <tr>\n",
       "      <th>1<\/th>\n",
       "      <td>0.623473<\/td>\n",
       "      <td>-0.958087<\/td>\n",
       "      <td>0.227466<\/td>\n",
       "    <\/tr>\n",
       "    <tr>\n",
       "      <th>4<\/th>\n",
       "      <td>-0.304627<\/td>\n",
       "      <td>1.653522<\/td>\n",
       "      <td>1.002207<\/td>\n",
       "    <\/tr>\n",
       "    <tr>\n",
       "      <th>6<\/th>\n",
       "      <td>0.508329<\/td>\n",
       "      <td>-2.802690<\/td>\n",
       "      <td>0.240632<\/td>\n",
       "    <\/tr>\n",
       "    <tr>\n",
       "      <th>2<\/th>\n",
       "      <td>-0.144204<\/td>\n",
       "      <td>-0.952385<\/td>\n",
       "      <td>0.564525<\/td>\n",
       "    <\/tr>\n",
       "    <tr>\n",
       "      <th>3<\/th>\n",
       "      <td>0.008247<\/td>\n",
       "      <td>0.292579<\/td>\n",
       "      <td>-0.940571<\/td>\n",
       "    <\/tr>\n",
       "    <tr>\n",
       "      <th>5<\/th>\n",
       "      <td>0.255386<\/td>\n",
       "      <td>0.823111<\/td>\n",
       "      <td>-0.754449<\/td>\n",
       "    <\/tr>\n",
       "    <tr>\n",
       "      <th>9<\/th>\n",
       "      <td>0.598335<\/td>\n",
       "      <td>-0.125887<\/td>\n",
       "      <td>-0.646610<\/td>\n",
       "    <\/tr>\n",
       "    <tr>\n",
       "      <th>8<\/th>\n",
       "      <td>1.176822<\/td>\n",
       "      <td>-0.369576<\/td>\n",
       "      <td>-0.298120<\/td>\n",
       "    <\/tr>\n",
       "    <tr>\n",
       "      <th>0<\/th>\n",
       "      <td>-0.482413<\/td>\n",
       "      <td>-2.217021<\/td>\n",
       "      <td>0.865950<\/td>\n",
       "    <\/tr>\n",
       "    <tr>\n",
       "      <th>7<\/th>\n",
       "      <td>0.515418<\/td>\n",
       "      <td>1.906527<\/td>\n",
       "      <td>-1.048191<\/td>\n",
       "    <\/tr>\n",
       "    <tr>\n",
       "      <th>10<\/th>\n",
       "      <td>0.612419<\/td>\n",
       "      <td>0.766927<\/td>\n",
       "      <td>0.228915<\/td>\n",
       "    <\/tr>\n",
       "    <tr>\n",
       "      <th>11<\/th>\n",
       "      <td>0.756681<\/td>\n",
       "      <td>0.769825<\/td>\n",
       "      <td>-1.560378<\/td>\n",
       "    <\/tr>\n",
       "    <tr>\n",
       "      <th>12<\/th>\n",
       "      <td>1.894365<\/td>\n",
       "      <td>2.073700<\/td>\n",
       "      <td>-0.298776<\/td>\n",
       "    <\/tr>\n",
       "  <\/tbody>\n",
       "<\/table>\n",
       "<\/div>"
      ]
     },
     "metadata":{
      
     },
     "output_type":"display_data"
    }
   ],
   "metadata":{
    "datalore":{
     "node_id":"Sv9HLg7q20Y139jd3D5I1u",
     "type":"CODE",
     "hide_input_from_viewers":false,
     "hide_output_from_viewers":false,
     "report_properties":{
      "y":46
     }
    }
   }
  },
  {
   "cell_type":"code",
   "source":[
    "sorted_df = unsorted_df.sort_index()\n",
    "sorted_df"
   ],
   "execution_count":29,
   "outputs":[
    {
     "data":{
      "text\/html":[
       "<div>\n",
       "<style scoped>\n",
       "    .dataframe tbody tr th:only-of-type {\n",
       "        vertical-align: middle;\n",
       "    }\n",
       "\n",
       "    .dataframe tbody tr th {\n",
       "        vertical-align: top;\n",
       "    }\n",
       "\n",
       "    .dataframe thead th {\n",
       "        text-align: right;\n",
       "    }\n",
       "<\/style>\n",
       "<table border=\"1\" class=\"dataframe\">\n",
       "  <thead>\n",
       "    <tr style=\"text-align: right;\">\n",
       "      <th><\/th>\n",
       "      <th>b<\/th>\n",
       "      <th>a<\/th>\n",
       "      <th>c<\/th>\n",
       "    <\/tr>\n",
       "  <\/thead>\n",
       "  <tbody>\n",
       "    <tr>\n",
       "      <th>0<\/th>\n",
       "      <td>-0.482413<\/td>\n",
       "      <td>-2.217021<\/td>\n",
       "      <td>0.865950<\/td>\n",
       "    <\/tr>\n",
       "    <tr>\n",
       "      <th>1<\/th>\n",
       "      <td>0.623473<\/td>\n",
       "      <td>-0.958087<\/td>\n",
       "      <td>0.227466<\/td>\n",
       "    <\/tr>\n",
       "    <tr>\n",
       "      <th>2<\/th>\n",
       "      <td>-0.144204<\/td>\n",
       "      <td>-0.952385<\/td>\n",
       "      <td>0.564525<\/td>\n",
       "    <\/tr>\n",
       "    <tr>\n",
       "      <th>3<\/th>\n",
       "      <td>0.008247<\/td>\n",
       "      <td>0.292579<\/td>\n",
       "      <td>-0.940571<\/td>\n",
       "    <\/tr>\n",
       "    <tr>\n",
       "      <th>4<\/th>\n",
       "      <td>-0.304627<\/td>\n",
       "      <td>1.653522<\/td>\n",
       "      <td>1.002207<\/td>\n",
       "    <\/tr>\n",
       "    <tr>\n",
       "      <th>5<\/th>\n",
       "      <td>0.255386<\/td>\n",
       "      <td>0.823111<\/td>\n",
       "      <td>-0.754449<\/td>\n",
       "    <\/tr>\n",
       "    <tr>\n",
       "      <th>6<\/th>\n",
       "      <td>0.508329<\/td>\n",
       "      <td>-2.802690<\/td>\n",
       "      <td>0.240632<\/td>\n",
       "    <\/tr>\n",
       "    <tr>\n",
       "      <th>7<\/th>\n",
       "      <td>0.515418<\/td>\n",
       "      <td>1.906527<\/td>\n",
       "      <td>-1.048191<\/td>\n",
       "    <\/tr>\n",
       "    <tr>\n",
       "      <th>8<\/th>\n",
       "      <td>1.176822<\/td>\n",
       "      <td>-0.369576<\/td>\n",
       "      <td>-0.298120<\/td>\n",
       "    <\/tr>\n",
       "    <tr>\n",
       "      <th>9<\/th>\n",
       "      <td>0.598335<\/td>\n",
       "      <td>-0.125887<\/td>\n",
       "      <td>-0.646610<\/td>\n",
       "    <\/tr>\n",
       "    <tr>\n",
       "      <th>10<\/th>\n",
       "      <td>0.612419<\/td>\n",
       "      <td>0.766927<\/td>\n",
       "      <td>0.228915<\/td>\n",
       "    <\/tr>\n",
       "    <tr>\n",
       "      <th>11<\/th>\n",
       "      <td>0.756681<\/td>\n",
       "      <td>0.769825<\/td>\n",
       "      <td>-1.560378<\/td>\n",
       "    <\/tr>\n",
       "    <tr>\n",
       "      <th>12<\/th>\n",
       "      <td>1.894365<\/td>\n",
       "      <td>2.073700<\/td>\n",
       "      <td>-0.298776<\/td>\n",
       "    <\/tr>\n",
       "  <\/tbody>\n",
       "<\/table>\n",
       "<\/div>"
      ]
     },
     "metadata":{
      
     },
     "output_type":"display_data"
    }
   ],
   "metadata":{
    "datalore":{
     "node_id":"fkaq7dsYNdKrZHe6Sag9hB",
     "type":"CODE",
     "hide_input_from_viewers":false,
     "hide_output_from_viewers":false,
     "report_properties":{
      "y":60
     }
    }
   }
  },
  {
   "cell_type":"code",
   "source":[
    "sorted_df = unsorted_df.sort_index(ascending=False)\n",
    "sorted_df"
   ],
   "execution_count":30,
   "outputs":[
    {
     "data":{
      "text\/html":[
       "<div>\n",
       "<style scoped>\n",
       "    .dataframe tbody tr th:only-of-type {\n",
       "        vertical-align: middle;\n",
       "    }\n",
       "\n",
       "    .dataframe tbody tr th {\n",
       "        vertical-align: top;\n",
       "    }\n",
       "\n",
       "    .dataframe thead th {\n",
       "        text-align: right;\n",
       "    }\n",
       "<\/style>\n",
       "<table border=\"1\" class=\"dataframe\">\n",
       "  <thead>\n",
       "    <tr style=\"text-align: right;\">\n",
       "      <th><\/th>\n",
       "      <th>b<\/th>\n",
       "      <th>a<\/th>\n",
       "      <th>c<\/th>\n",
       "    <\/tr>\n",
       "  <\/thead>\n",
       "  <tbody>\n",
       "    <tr>\n",
       "      <th>12<\/th>\n",
       "      <td>1.894365<\/td>\n",
       "      <td>2.073700<\/td>\n",
       "      <td>-0.298776<\/td>\n",
       "    <\/tr>\n",
       "    <tr>\n",
       "      <th>11<\/th>\n",
       "      <td>0.756681<\/td>\n",
       "      <td>0.769825<\/td>\n",
       "      <td>-1.560378<\/td>\n",
       "    <\/tr>\n",
       "    <tr>\n",
       "      <th>10<\/th>\n",
       "      <td>0.612419<\/td>\n",
       "      <td>0.766927<\/td>\n",
       "      <td>0.228915<\/td>\n",
       "    <\/tr>\n",
       "    <tr>\n",
       "      <th>9<\/th>\n",
       "      <td>0.598335<\/td>\n",
       "      <td>-0.125887<\/td>\n",
       "      <td>-0.646610<\/td>\n",
       "    <\/tr>\n",
       "    <tr>\n",
       "      <th>8<\/th>\n",
       "      <td>1.176822<\/td>\n",
       "      <td>-0.369576<\/td>\n",
       "      <td>-0.298120<\/td>\n",
       "    <\/tr>\n",
       "    <tr>\n",
       "      <th>7<\/th>\n",
       "      <td>0.515418<\/td>\n",
       "      <td>1.906527<\/td>\n",
       "      <td>-1.048191<\/td>\n",
       "    <\/tr>\n",
       "    <tr>\n",
       "      <th>6<\/th>\n",
       "      <td>0.508329<\/td>\n",
       "      <td>-2.802690<\/td>\n",
       "      <td>0.240632<\/td>\n",
       "    <\/tr>\n",
       "    <tr>\n",
       "      <th>5<\/th>\n",
       "      <td>0.255386<\/td>\n",
       "      <td>0.823111<\/td>\n",
       "      <td>-0.754449<\/td>\n",
       "    <\/tr>\n",
       "    <tr>\n",
       "      <th>4<\/th>\n",
       "      <td>-0.304627<\/td>\n",
       "      <td>1.653522<\/td>\n",
       "      <td>1.002207<\/td>\n",
       "    <\/tr>\n",
       "    <tr>\n",
       "      <th>3<\/th>\n",
       "      <td>0.008247<\/td>\n",
       "      <td>0.292579<\/td>\n",
       "      <td>-0.940571<\/td>\n",
       "    <\/tr>\n",
       "    <tr>\n",
       "      <th>2<\/th>\n",
       "      <td>-0.144204<\/td>\n",
       "      <td>-0.952385<\/td>\n",
       "      <td>0.564525<\/td>\n",
       "    <\/tr>\n",
       "    <tr>\n",
       "      <th>1<\/th>\n",
       "      <td>0.623473<\/td>\n",
       "      <td>-0.958087<\/td>\n",
       "      <td>0.227466<\/td>\n",
       "    <\/tr>\n",
       "    <tr>\n",
       "      <th>0<\/th>\n",
       "      <td>-0.482413<\/td>\n",
       "      <td>-2.217021<\/td>\n",
       "      <td>0.865950<\/td>\n",
       "    <\/tr>\n",
       "  <\/tbody>\n",
       "<\/table>\n",
       "<\/div>"
      ]
     },
     "metadata":{
      
     },
     "output_type":"display_data"
    }
   ],
   "metadata":{
    "datalore":{
     "node_id":"9uZViDZMwKRnQjpCPSN6VT",
     "type":"CODE",
     "hide_input_from_viewers":false,
     "hide_output_from_viewers":false,
     "report_properties":{
      "y":74
     }
    }
   }
  },
  {
   "cell_type":"code",
   "source":[
    "sorted_df = unsorted_df.sort_index(axis=1)\n",
    "sorted_df"
   ],
   "execution_count":31,
   "outputs":[
    {
     "data":{
      "text\/html":[
       "<div>\n",
       "<style scoped>\n",
       "    .dataframe tbody tr th:only-of-type {\n",
       "        vertical-align: middle;\n",
       "    }\n",
       "\n",
       "    .dataframe tbody tr th {\n",
       "        vertical-align: top;\n",
       "    }\n",
       "\n",
       "    .dataframe thead th {\n",
       "        text-align: right;\n",
       "    }\n",
       "<\/style>\n",
       "<table border=\"1\" class=\"dataframe\">\n",
       "  <thead>\n",
       "    <tr style=\"text-align: right;\">\n",
       "      <th><\/th>\n",
       "      <th>a<\/th>\n",
       "      <th>b<\/th>\n",
       "      <th>c<\/th>\n",
       "    <\/tr>\n",
       "  <\/thead>\n",
       "  <tbody>\n",
       "    <tr>\n",
       "      <th>1<\/th>\n",
       "      <td>-0.958087<\/td>\n",
       "      <td>0.623473<\/td>\n",
       "      <td>0.227466<\/td>\n",
       "    <\/tr>\n",
       "    <tr>\n",
       "      <th>4<\/th>\n",
       "      <td>1.653522<\/td>\n",
       "      <td>-0.304627<\/td>\n",
       "      <td>1.002207<\/td>\n",
       "    <\/tr>\n",
       "    <tr>\n",
       "      <th>6<\/th>\n",
       "      <td>-2.802690<\/td>\n",
       "      <td>0.508329<\/td>\n",
       "      <td>0.240632<\/td>\n",
       "    <\/tr>\n",
       "    <tr>\n",
       "      <th>2<\/th>\n",
       "      <td>-0.952385<\/td>\n",
       "      <td>-0.144204<\/td>\n",
       "      <td>0.564525<\/td>\n",
       "    <\/tr>\n",
       "    <tr>\n",
       "      <th>3<\/th>\n",
       "      <td>0.292579<\/td>\n",
       "      <td>0.008247<\/td>\n",
       "      <td>-0.940571<\/td>\n",
       "    <\/tr>\n",
       "    <tr>\n",
       "      <th>5<\/th>\n",
       "      <td>0.823111<\/td>\n",
       "      <td>0.255386<\/td>\n",
       "      <td>-0.754449<\/td>\n",
       "    <\/tr>\n",
       "    <tr>\n",
       "      <th>9<\/th>\n",
       "      <td>-0.125887<\/td>\n",
       "      <td>0.598335<\/td>\n",
       "      <td>-0.646610<\/td>\n",
       "    <\/tr>\n",
       "    <tr>\n",
       "      <th>8<\/th>\n",
       "      <td>-0.369576<\/td>\n",
       "      <td>1.176822<\/td>\n",
       "      <td>-0.298120<\/td>\n",
       "    <\/tr>\n",
       "    <tr>\n",
       "      <th>0<\/th>\n",
       "      <td>-2.217021<\/td>\n",
       "      <td>-0.482413<\/td>\n",
       "      <td>0.865950<\/td>\n",
       "    <\/tr>\n",
       "    <tr>\n",
       "      <th>7<\/th>\n",
       "      <td>1.906527<\/td>\n",
       "      <td>0.515418<\/td>\n",
       "      <td>-1.048191<\/td>\n",
       "    <\/tr>\n",
       "    <tr>\n",
       "      <th>10<\/th>\n",
       "      <td>0.766927<\/td>\n",
       "      <td>0.612419<\/td>\n",
       "      <td>0.228915<\/td>\n",
       "    <\/tr>\n",
       "    <tr>\n",
       "      <th>11<\/th>\n",
       "      <td>0.769825<\/td>\n",
       "      <td>0.756681<\/td>\n",
       "      <td>-1.560378<\/td>\n",
       "    <\/tr>\n",
       "    <tr>\n",
       "      <th>12<\/th>\n",
       "      <td>2.073700<\/td>\n",
       "      <td>1.894365<\/td>\n",
       "      <td>-0.298776<\/td>\n",
       "    <\/tr>\n",
       "  <\/tbody>\n",
       "<\/table>\n",
       "<\/div>"
      ]
     },
     "metadata":{
      
     },
     "output_type":"display_data"
    }
   ],
   "metadata":{
    "datalore":{
     "node_id":"QIDA9zJMxBRNgENdDjivpw",
     "type":"CODE",
     "hide_input_from_viewers":false,
     "hide_output_from_viewers":false,
     "report_properties":{
      "y":78
     }
    }
   }
  },
  {
   "cell_type":"code",
   "source":[
    "sorted_df = unsorted_df.sort_values(by='a',ascending=False)\n",
    "sorted_df"
   ],
   "execution_count":32,
   "outputs":[
    {
     "data":{
      "text\/html":[
       "<div>\n",
       "<style scoped>\n",
       "    .dataframe tbody tr th:only-of-type {\n",
       "        vertical-align: middle;\n",
       "    }\n",
       "\n",
       "    .dataframe tbody tr th {\n",
       "        vertical-align: top;\n",
       "    }\n",
       "\n",
       "    .dataframe thead th {\n",
       "        text-align: right;\n",
       "    }\n",
       "<\/style>\n",
       "<table border=\"1\" class=\"dataframe\">\n",
       "  <thead>\n",
       "    <tr style=\"text-align: right;\">\n",
       "      <th><\/th>\n",
       "      <th>b<\/th>\n",
       "      <th>a<\/th>\n",
       "      <th>c<\/th>\n",
       "    <\/tr>\n",
       "  <\/thead>\n",
       "  <tbody>\n",
       "    <tr>\n",
       "      <th>12<\/th>\n",
       "      <td>1.894365<\/td>\n",
       "      <td>2.073700<\/td>\n",
       "      <td>-0.298776<\/td>\n",
       "    <\/tr>\n",
       "    <tr>\n",
       "      <th>7<\/th>\n",
       "      <td>0.515418<\/td>\n",
       "      <td>1.906527<\/td>\n",
       "      <td>-1.048191<\/td>\n",
       "    <\/tr>\n",
       "    <tr>\n",
       "      <th>4<\/th>\n",
       "      <td>-0.304627<\/td>\n",
       "      <td>1.653522<\/td>\n",
       "      <td>1.002207<\/td>\n",
       "    <\/tr>\n",
       "    <tr>\n",
       "      <th>5<\/th>\n",
       "      <td>0.255386<\/td>\n",
       "      <td>0.823111<\/td>\n",
       "      <td>-0.754449<\/td>\n",
       "    <\/tr>\n",
       "    <tr>\n",
       "      <th>11<\/th>\n",
       "      <td>0.756681<\/td>\n",
       "      <td>0.769825<\/td>\n",
       "      <td>-1.560378<\/td>\n",
       "    <\/tr>\n",
       "    <tr>\n",
       "      <th>10<\/th>\n",
       "      <td>0.612419<\/td>\n",
       "      <td>0.766927<\/td>\n",
       "      <td>0.228915<\/td>\n",
       "    <\/tr>\n",
       "    <tr>\n",
       "      <th>3<\/th>\n",
       "      <td>0.008247<\/td>\n",
       "      <td>0.292579<\/td>\n",
       "      <td>-0.940571<\/td>\n",
       "    <\/tr>\n",
       "    <tr>\n",
       "      <th>9<\/th>\n",
       "      <td>0.598335<\/td>\n",
       "      <td>-0.125887<\/td>\n",
       "      <td>-0.646610<\/td>\n",
       "    <\/tr>\n",
       "    <tr>\n",
       "      <th>8<\/th>\n",
       "      <td>1.176822<\/td>\n",
       "      <td>-0.369576<\/td>\n",
       "      <td>-0.298120<\/td>\n",
       "    <\/tr>\n",
       "    <tr>\n",
       "      <th>2<\/th>\n",
       "      <td>-0.144204<\/td>\n",
       "      <td>-0.952385<\/td>\n",
       "      <td>0.564525<\/td>\n",
       "    <\/tr>\n",
       "    <tr>\n",
       "      <th>1<\/th>\n",
       "      <td>0.623473<\/td>\n",
       "      <td>-0.958087<\/td>\n",
       "      <td>0.227466<\/td>\n",
       "    <\/tr>\n",
       "    <tr>\n",
       "      <th>0<\/th>\n",
       "      <td>-0.482413<\/td>\n",
       "      <td>-2.217021<\/td>\n",
       "      <td>0.865950<\/td>\n",
       "    <\/tr>\n",
       "    <tr>\n",
       "      <th>6<\/th>\n",
       "      <td>0.508329<\/td>\n",
       "      <td>-2.802690<\/td>\n",
       "      <td>0.240632<\/td>\n",
       "    <\/tr>\n",
       "  <\/tbody>\n",
       "<\/table>\n",
       "<\/div>"
      ]
     },
     "metadata":{
      
     },
     "output_type":"display_data"
    }
   ],
   "metadata":{
    "datalore":{
     "node_id":"MoMJJ1WA8b2KxA4NWGNUcM",
     "type":"CODE",
     "hide_input_from_viewers":false,
     "hide_output_from_viewers":false,
     "report_properties":{
      "y":82
     }
    }
   }
  },
  {
   "cell_type":"code",
   "source":[
    "def policz(a,b):\n",
    "    return a*(b-2)"
   ],
   "execution_count":33,
   "outputs":[
    
   ],
   "metadata":{
    "datalore":{
     "node_id":"0vngmtQoziYP94tIexUGto",
     "type":"CODE",
     "hide_input_from_viewers":false,
     "hide_output_from_viewers":false,
     "report_properties":{
      "y":85
     }
    }
   }
  },
  {
   "cell_type":"code",
   "source":[
    "policz(3,6.6)"
   ],
   "execution_count":34,
   "outputs":[
    {
     "data":{
      "text\/plain":[
       "13.799999999999999"
      ]
     },
     "metadata":{
      
     },
     "output_type":"display_data"
    }
   ],
   "metadata":{
    "datalore":{
     "node_id":"uezBg0IyOXlIGypXAlDj7I",
     "type":"CODE",
     "hide_input_from_viewers":false,
     "hide_output_from_viewers":false,
     "report_properties":{
      "y":88
     }
    }
   }
  }
 ],
 "metadata":{
  "kernelspec":{
   "display_name":"Python",
   "language":"python",
   "name":"python"
  },
  "datalore":{
   "version":1,
   "computation_mode":"JUPYTER",
   "package_manager":"pip",
   "base_environment":"default",
   "packages":[
    
   ]
  }
 },
 "nbformat":4,
 "nbformat_minor":4
}